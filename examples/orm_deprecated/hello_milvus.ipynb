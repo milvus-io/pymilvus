{
 "cells": [
  {
   "cell_type": "markdown",
   "metadata": {},
   "source": [
    "# hello_milvus Demo\n",
    "\n",
    "`hello_milvus.ipynb` demonstrates the basic operations of PyMilvus, a Python SDK of Milvus.\n",
    "Before running, make sure that you have a running Milvus instance.\n",
    "\n",
    "1. connect to Milvus\n",
    "2. create collection\n",
    "3. insert data\n",
    "4. create index\n",
    "5. search, query, and hybrid search on entities\n",
    "6. delete entities by PK\n",
    "7. drop collection"
   ]
  },
  {
   "cell_type": "code",
   "execution_count": 25,
   "metadata": {},
   "outputs": [],
   "source": [
    "import numpy as np\n",
    "import time\n",
    "\n",
    "from pymilvus import (\n",
    "    connections,\n",
    "    utility,\n",
    "    FieldSchema, CollectionSchema, DataType,\n",
    "    Collection,\n",
    ")\n",
    "\n",
    "fmt = \"\\n=== {:30} ===\\n\"\n",
    "search_latency_fmt = \"search latency = {:.4f}s\"\n",
    "num_entities, dim = 3000, 8"
   ]
  },
  {
   "cell_type": "markdown",
   "metadata": {},
   "source": [
    "## 1. connect to Milvus\n",
    "\n",
    "Add a new connection alias `default` for Milvus server in `localhost:19530`. \n",
    "\n",
    "Actually the `default` alias is a buildin in PyMilvus. If the address of Milvus is the same as `localhost:19530`, you can omit all parameters and call the method as: `connections.connect()`.\n",
    "\n",
    "Note: the `using` parameter of the following methods is default to \"default\"."
   ]
  },
  {
   "cell_type": "code",
   "execution_count": 26,
   "metadata": {},
   "outputs": [
    {
     "name": "stdout",
     "output_type": "stream",
     "text": [
      "Does collection hello_milvus exist in Milvus: False\n"
     ]
    }
   ],
   "source": [
    "connections.connect(\"default\", host=\"localhost\", port=\"19530\")\n",
    "\n",
    "has = utility.has_collection(\"hello_milvus\")\n",
    "print(f\"Does collection hello_milvus exist in Milvus: {has}\")"
   ]
  },
  {
   "cell_type": "markdown",
   "metadata": {},
   "source": [
    "## 2. create collection\n",
    "We're going to create a collection with 3 fields.\n",
    "\n",
    "|   |field name  |field type |other attributes              |  field description      |\n",
    "|---|:----------:|:---------:|:----------------------------:|:-----------------------:|\n",
    "|1  |    \"pk\"    |   VARCHAR |is_primary=True, auto_id=False|      \"primary field\"    |\n",
    "|2  |  \"random\"  |   Double  |                              |      \"a double field\"   |\n",
    "|3  |\"embeddings\"|FloatVector|     dim=8                    |\"float vector with dim 8\"|"
   ]
  },
  {
   "cell_type": "code",
   "execution_count": 27,
   "metadata": {},
   "outputs": [],
   "source": [
    "fields = [\n",
    "    FieldSchema(name=\"pk\", dtype=DataType.VARCHAR, is_primary=True, auto_id=False, max_length=100),\n",
    "    FieldSchema(name=\"random\", dtype=DataType.DOUBLE),\n",
    "    FieldSchema(name=\"embeddings\", dtype=DataType.FLOAT_VECTOR, dim=dim)\n",
    "]\n",
    "\n",
    "schema = CollectionSchema(fields, \"hello_milvus is the simplest demo to introduce the APIs\")\n",
    "\n",
    "hello_milvus = Collection(\"hello_milvus\", schema, consistency_level=\"Strong\")"
   ]
  },
  {
   "cell_type": "markdown",
   "metadata": {},
   "source": [
    "## 3. insert data\n",
    "\n",
    "We are going to insert 3000 rows of data into `hello_milvus`. Data to be inserted must be organized in fields.\n",
    "\n",
    "The insert() method returns:\n",
    "- either automatically generated primary keys by Milvus if auto_id=True in the schema;\n",
    "- or the existing primary key field from the entities if auto_id=False in the schema."
   ]
  },
  {
   "cell_type": "code",
   "execution_count": 28,
   "metadata": {},
   "outputs": [
    {
     "name": "stdout",
     "output_type": "stream",
     "text": [
      "Number of entities in Milvus: 3000\n"
     ]
    }
   ],
   "source": [
    "rng = np.random.default_rng(seed=19530)\n",
    "entities = [\n",
    "    # provide the pk field because `auto_id` is set to False\n",
    "    [str(i) for i in range(num_entities)],\n",
    "    rng.random(num_entities).tolist(),  # field random, only supports list\n",
    "    rng.random((num_entities, dim)),    # field embeddings, supports numpy.ndarray and list\n",
    "]\n",
    "\n",
    "insert_result = hello_milvus.insert(entities)\n",
    "\n",
    "print(f\"Number of entities in Milvus: {hello_milvus.num_entities}\")  # check the num_entites"
   ]
  },
  {
   "cell_type": "markdown",
   "metadata": {},
   "source": [
    "## 4. create index\n",
    "We are going to create an IVF_FLAT index for hello_milvus collection.\n",
    "\n",
    "create_index() can only be applied to `FloatVector` and `BinaryVector` fields."
   ]
  },
  {
   "cell_type": "code",
   "execution_count": 29,
   "metadata": {},
   "outputs": [
    {
     "data": {
      "text/plain": [
       "Status(code=0, message='')"
      ]
     },
     "execution_count": 29,
     "metadata": {},
     "output_type": "execute_result"
    }
   ],
   "source": [
    "index = {\n",
    "    \"index_type\": \"IVF_FLAT\",\n",
    "    \"metric_type\": \"L2\",\n",
    "    \"params\": {\"nlist\": 128},\n",
    "}\n",
    "\n",
    "hello_milvus.create_index(\"embeddings\", index)"
   ]
  },
  {
   "cell_type": "markdown",
   "metadata": {},
   "source": [
    "## 5. search, query, and hybrid search\n",
    "After data were inserted into Milvus and indexed, you can perform:\n",
    "- search based on vector similarity\n",
    "- query based on scalar filtering(boolean, int, etc.)\n",
    "- hybrid search based on vector similarity and scalar filtering.\n",
    "\n",
    "Before conducting a search or a query, you need to load the data in `hello_milvus` into memory."
   ]
  },
  {
   "cell_type": "code",
   "execution_count": 30,
   "metadata": {},
   "outputs": [],
   "source": [
    "hello_milvus.load()"
   ]
  },
  {
   "cell_type": "markdown",
   "metadata": {},
   "source": [
    "**Search based on vector similarity**"
   ]
  },
  {
   "cell_type": "code",
   "execution_count": 31,
   "metadata": {},
   "outputs": [
    {
     "name": "stdout",
     "output_type": "stream",
     "text": [
      "hit: (distance: 0.0, id: 2998), random field: 0.9728033590489911\n",
      "hit: (distance: 0.08883658051490784, id: 1262), random field: 0.2978858685751561\n",
      "hit: (distance: 0.09590047597885132, id: 1265), random field: 0.3042039939240304\n",
      "hit: (distance: 0.0, id: 2999), random field: 0.02316334456872482\n",
      "hit: (distance: 0.05628091096878052, id: 1580), random field: 0.3855988746044062\n",
      "hit: (distance: 0.08096685260534286, id: 2377), random field: 0.8745922204004368\n",
      "search latency = 0.2968s\n"
     ]
    }
   ],
   "source": [
    "vectors_to_search = entities[-1][-2:]\n",
    "search_params = {\n",
    "    \"metric_type\": \"L2\",\n",
    "    \"params\": {\"nprobe\": 10},\n",
    "}\n",
    "\n",
    "start_time = time.time()\n",
    "result = hello_milvus.search(vectors_to_search, \"embeddings\", search_params, limit=3, output_fields=[\"random\"])\n",
    "end_time = time.time()\n",
    "\n",
    "for hits in result:\n",
    "    for hit in hits:\n",
    "        print(f\"hit: {hit}, random field: {hit.entity.get('random')}\")\n",
    "print(search_latency_fmt.format(end_time - start_time))"
   ]
  },
  {
   "cell_type": "markdown",
   "metadata": {},
   "source": [
    "**Query based on scalar filtering(boolean, int, etc.)**\n",
    "\n",
    "Start quering with `random > 0.5`"
   ]
  },
  {
   "cell_type": "code",
   "execution_count": 32,
   "metadata": {},
   "outputs": [
    {
     "name": "stdout",
     "output_type": "stream",
     "text": [
      "query result:\n",
      "-{'pk': '4', 'embeddings': [0.803092, 0.748499, 0.733152, 0.7597, 0.113219, 0.028412, 0.496197, 0.191172], 'random': 0.744296470467782}\n",
      "search latency = 0.2481s\n"
     ]
    }
   ],
   "source": [
    "start_time = time.time()\n",
    "result = hello_milvus.query(expr=\"random > 0.5\", output_fields=[\"random\", \"embeddings\"])\n",
    "end_time = time.time()\n",
    "\n",
    "print(f\"query result:\\n-{result[0]}\")\n",
    "print(search_latency_fmt.format(end_time - start_time))"
   ]
  },
  {
   "cell_type": "markdown",
   "metadata": {},
   "source": [
    "**Hybrid search**\n",
    "\n",
    "Start hybrid searching with `random > 0.5`"
   ]
  },
  {
   "cell_type": "code",
   "execution_count": 33,
   "metadata": {},
   "outputs": [
    {
     "name": "stdout",
     "output_type": "stream",
     "text": [
      "hit: (distance: 0.0, id: 2998), random field: 0.9728033590489911\n",
      "hit: (distance: 0.14606499671936035, id: 747), random field: 0.5648774800635661\n",
      "hit: (distance: 0.1530652642250061, id: 2527), random field: 0.8928974315571507\n",
      "hit: (distance: 0.08096685260534286, id: 2377), random field: 0.8745922204004368\n",
      "hit: (distance: 0.20354536175727844, id: 2034), random field: 0.5526117606328499\n",
      "hit: (distance: 0.21908017992973328, id: 958), random field: 0.6647383716417955\n",
      "search latency = 0.1282s\n"
     ]
    }
   ],
   "source": [
    "start_time = time.time()\n",
    "result = hello_milvus.search(vectors_to_search, \"embeddings\", search_params, limit=3, expr=\"random > 0.5\", output_fields=[\"random\"])\n",
    "end_time = time.time()\n",
    "\n",
    "for hits in result:\n",
    "    for hit in hits:\n",
    "        print(f\"hit: {hit}, random field: {hit.entity.get('random')}\")\n",
    "print(search_latency_fmt.format(end_time - start_time))"
   ]
  },
  {
   "cell_type": "markdown",
   "metadata": {},
   "source": [
    "## 6. delete entities by PK\n",
    "You can delete entities by their PK values using boolean expressions.\n"
   ]
  },
  {
   "cell_type": "code",
   "execution_count": 34,
   "metadata": {},
   "outputs": [
    {
     "name": "stdout",
     "output_type": "stream",
     "text": [
      "query before delete by expr=`pk in [\"0\", \"1\"]` -> result: \n",
      "-{'pk': '0', 'random': 0.6378742006852851, 'embeddings': [0.209635, 0.397467, 0.120191, 0.694749, 0.953557, 0.545455, 0.823604, 0.210963]}\n",
      "-{'pk': '1', 'random': 0.43925103574669633, 'embeddings': [0.523236, 0.80354, 0.778247, 0.803696, 0.49148, 0.826561, 0.614527, 0.802345]}\n",
      "\n",
      "query after delete by expr=`pk in [\"0\", \"1\"]` -> result: []\n",
      "\n"
     ]
    }
   ],
   "source": [
    "ids = insert_result.primary_keys\n",
    "expr = f'pk in [\"{ids[0]}\", \"{ids[1]}\"]'\n",
    "\n",
    "result = hello_milvus.query(expr=expr, output_fields=[\"random\", \"embeddings\"])\n",
    "print(f\"query before delete by expr=`{expr}` -> result: \\n-{result[0]}\\n-{result[1]}\\n\")\n",
    "\n",
    "hello_milvus.delete(expr)\n",
    "\n",
    "result = hello_milvus.query(expr=expr, output_fields=[\"random\", \"embeddings\"])\n",
    "print(f\"query after delete by expr=`{expr}` -> result: {result}\\n\")"
   ]
  },
  {
   "cell_type": "markdown",
   "metadata": {},
   "source": [
    "## 7. drop collection\n",
    "Finally, drop the hello_milvus collection"
   ]
  },
  {
   "cell_type": "code",
   "execution_count": 35,
   "metadata": {},
   "outputs": [],
   "source": [
    "utility.drop_collection(\"hello_milvus\")"
   ]
  }
 ],
 "metadata": {
  "interpreter": {
   "hash": "08729c1b09183f4f38e81bb10929f98dd3c2fb886eeaa68ef9ddc9d2071f5c86"
  },
  "kernelspec": {
   "display_name": "Python 3",
   "language": "python",
   "name": "python3"
  },
  "language_info": {
   "codemirror_mode": {
    "name": "ipython",
    "version": 3
   },
   "file_extension": ".py",
   "mimetype": "text/x-python",
   "name": "python",
   "nbconvert_exporter": "python",
   "pygments_lexer": "ipython3",
   "version": "3.6.9"
  }
 },
 "nbformat": 4,
 "nbformat_minor": 2
}
